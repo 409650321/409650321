{
  "nbformat": 4,
  "nbformat_minor": 0,
  "metadata": {
    "colab": {
      "name": "hw5.ipynb",
      "provenance": [],
      "authorship_tag": "ABX9TyPHOR/xM4HXAE5QWviDvFHY",
      "include_colab_link": true
    },
    "kernelspec": {
      "name": "python3",
      "display_name": "Python 3"
    },
    "language_info": {
      "name": "python"
    }
  },
  "cells": [
    {
      "cell_type": "markdown",
      "metadata": {
        "id": "view-in-github",
        "colab_type": "text"
      },
      "source": [
        "<a href=\"https://colab.research.google.com/github/409650321/409650321/blob/main/hw5.ipynb\" target=\"_parent\"><img src=\"https://colab.research.google.com/assets/colab-badge.svg\" alt=\"Open In Colab\"/></a>"
      ]
    },
    {
      "cell_type": "code",
      "execution_count": 1,
      "metadata": {
        "colab": {
          "base_uri": "https://localhost:8080/"
        },
        "id": "MZQkwrPULjmf",
        "outputId": "1bb47aaa-4b48-469f-ae15-9d4343e99dc8"
      },
      "outputs": [
        {
          "output_type": "stream",
          "name": "stdout",
          "text": [
            "請輸入你的體溫37.5\n",
            "體溫過高!\n"
          ]
        }
      ],
      "source": [
        "temp=float(input(\"請輸入你的體溫\"))\n",
        "if temp>=37.5:\n",
        "  print(\"體溫過高!\")\n",
        "elif temp>=37 and temp<37.4:\n",
        "  print(\"體溫略高!\")\n",
        "elif temp>=34 and temp<36.9:\n",
        "  print(\"體溫正常!\")\n",
        "else:\n",
        "  print(\"體溫異常，請重新量測!\")"
      ]
    },
    {
      "cell_type": "code",
      "source": [
        "money=int(input(\"請輸入購物金額:\"))\n",
        "if(money>=10000):\n",
        "  if(money>=100000):\n",
        "      print(\"八折\",money *0.8,end=\"元\\n\")\n",
        "  elif(money>=50000):\n",
        "      print(\"八五折\",money *0.85,end=\"元\\n\")\n",
        "  elif(money>=30000):\n",
        "      print(\"九折\",money *0.9,end=\"元\\n\")\n",
        "  else:\n",
        "      print(\"九五折\",money *0.95,end=\"元\\n\")\n",
        "else:\n",
        "    print(\"沒打折\",money,end=\"元\\n\")"
      ],
      "metadata": {
        "colab": {
          "base_uri": "https://localhost:8080/"
        },
        "id": "Q-EIuNW1LsU5",
        "outputId": "13b1e25c-5523-4303-caf1-f79f15f3e60a"
      },
      "execution_count": 3,
      "outputs": [
        {
          "output_type": "stream",
          "name": "stdout",
          "text": [
            "請輸入購物金額:30000\n",
            "九折 27000.0元\n"
          ]
        }
      ]
    },
    {
      "cell_type": "code",
      "source": [
        "season=float(input(\"請輸入月份\"))\n",
        "if season==3 or season==4 or season==5:\n",
        "  print(\"x月是夏天!\")\n",
        "elif season==6 or season==7 or season==8:\n",
        "  print(\"x月是秋天!\")\n",
        "elif season==9 or season==10 or season==11:\n",
        "  print(\"x月是秋天!\")\n",
        "elif season==12 or season==1 or season==2:\n",
        "  print(\"x月是冬天!\")\n",
        "else:\n",
        "  print(\"月份不再範圍內!\")"
      ],
      "metadata": {
        "colab": {
          "base_uri": "https://localhost:8080/"
        },
        "id": "pg9MfGS8Lu4R",
        "outputId": "aa353dc2-5259-4cfc-fa28-b233356e1f6a"
      },
      "execution_count": 4,
      "outputs": [
        {
          "output_type": "stream",
          "name": "stdout",
          "text": [
            "請輸入月份6\n",
            "x月是秋天!\n"
          ]
        }
      ]
    },
    {
      "cell_type": "code",
      "source": [
        "money=int(input(\"請輸入今年收入淨額:\"))\n",
        "if(money>=10000):\n",
        "  if(money>=2000000):\n",
        "      print(\"付稅金額\",money *0.3,end=\"元\\n\")\n",
        "  elif(money>=1000000):\n",
        "      print(\"付稅金額\",money *0.21,end=\"元\\n\")\n",
        "  elif(money>=600000):\n",
        "      print(\"付稅金額\",money *0.13,end=\"元\\n\")\n",
        "  elif(money>=300000):\n",
        "      print(\"付稅金額\",money *0.06,end=\"元\\n\")\n",
        "  else:\n",
        "      print(\"付稅金額\",money*0,end=\"元\\n\")\n",
        "      \n",
        "money=int(input(\"請輸入今年收入淨額:\"))\n",
        "if(money>=10000):\n",
        "  if(money>=2000000):\n",
        "      print(\"付稅金額\",money *0.3,end=\"元\\n\")\n",
        "  elif(money>=1000000):\n",
        "      print(\"付稅金額\",money *0.21,end=\"元\\n\")\n",
        "  elif(money>=600000):\n",
        "      print(\"付稅金額\",money *0.13,end=\"元\\n\")\n",
        "  elif(money>=300000):\n",
        "      print(\"付稅金額\",money *0.06,end=\"元\\n\")\n",
        "  else:\n",
        "      print(\"付稅金額\",money*0,end=\"元\\n\")"
      ],
      "metadata": {
        "colab": {
          "base_uri": "https://localhost:8080/"
        },
        "id": "UmgkM_OKLxSZ",
        "outputId": "72b04083-5cfb-41f2-f38e-136d6e6581ce"
      },
      "execution_count": 2,
      "outputs": [
        {
          "output_type": "stream",
          "name": "stdout",
          "text": [
            "請輸入今年收入淨額:100000\n",
            "付稅金額 0元\n",
            "請輸入今年收入淨額:200000\n",
            "付稅金額 0元\n"
          ]
        }
      ]
    },
    {
      "cell_type": "code",
      "source": [
        "score=float(input(\"請輸入成績\"))\n",
        "if score>=90:\n",
        "  print(\"A\")\n",
        "elif score>=80 and score<90:\n",
        "  print(\"B\")\n",
        "elif score>=70 and score<80:\n",
        "  print(\"C\")\n",
        "elif score>=60 and score<70:\n",
        "  print(\"D\")\n",
        "else:\n",
        "  print(\"E\")\n",
        "\n",
        "score=float(input(\"請輸入成績\"))\n",
        "if score>=90:\n",
        "  print(\"A\")\n",
        "elif score>=80 and score<90:\n",
        "  print(\"B\")\n",
        "elif score>=70 and score<80:\n",
        "  print(\"C\")\n",
        "elif score>=60 and score<70:\n",
        "  print(\"D\")\n",
        "else:\n",
        "  print(\"E\")\n",
        "\n",
        "score=float(input(\"請輸入成績\"))\n",
        "if score>=90:\n",
        "  print(\"A\")\n",
        "elif score>=80 and score<90:\n",
        "  print(\"B\")\n",
        "elif score>=70 and score<80:\n",
        "  print(\"C\")\n",
        "elif score>=60 and score<70:\n",
        "  print(\"D\")\n",
        "else:\n",
        "  print(\"E\")"
      ],
      "metadata": {
        "colab": {
          "base_uri": "https://localhost:8080/"
        },
        "id": "XxOEYrGoL2ZB",
        "outputId": "aadafa5b-3386-46e6-ca14-f76b261bd22f"
      },
      "execution_count": 5,
      "outputs": [
        {
          "output_type": "stream",
          "name": "stdout",
          "text": [
            "請輸入成績70\n",
            "C\n",
            "請輸入成績65\n",
            "D\n",
            "請輸入成績98\n",
            "A\n"
          ]
        }
      ]
    }
  ]
}