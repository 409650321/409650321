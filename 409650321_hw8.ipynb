{
  "nbformat": 4,
  "nbformat_minor": 0,
  "metadata": {
    "colab": {
      "name": "409650321/hw8.ipynb",
      "provenance": [],
      "authorship_tag": "ABX9TyP6UtAJ/Nl1Ss7uGTj7d+In",
      "include_colab_link": true
    },
    "kernelspec": {
      "name": "python3",
      "display_name": "Python 3"
    },
    "language_info": {
      "name": "python"
    }
  },
  "cells": [
    {
      "cell_type": "markdown",
      "metadata": {
        "id": "view-in-github",
        "colab_type": "text"
      },
      "source": [
        "<a href=\"https://colab.research.google.com/github/409650321/409650321/blob/main/409650321_hw8.ipynb\" target=\"_parent\"><img src=\"https://colab.research.google.com/assets/colab-badge.svg\" alt=\"Open In Colab\"/></a>"
      ]
    },
    {
      "cell_type": "code",
      "execution_count": 1,
      "metadata": {
        "colab": {
          "base_uri": "https://localhost:8080/"
        },
        "id": "12lKcCVHpvGB",
        "outputId": "d7629fb4-3482-4cdb-90a6-9382346d011c"
      },
      "outputs": [
        {
          "output_type": "stream",
          "name": "stdout",
          "text": [
            "0601\n"
          ]
        }
      ],
      "source": [
        "print(\"0601\")"
      ]
    },
    {
      "cell_type": "code",
      "source": [
        "for i in range(2,10):\n",
        "  for j in range(1,10):\n",
        "    product= i * j\n",
        "    print(\"%d*%d=%2d\"%(i,j,product),end=\" \")\n",
        "  print()"
      ],
      "metadata": {
        "colab": {
          "base_uri": "https://localhost:8080/"
        },
        "id": "7K66Zeonpxs9",
        "outputId": "6990bb52-0418-4cfb-9997-95a69b4a4525"
      },
      "execution_count": 2,
      "outputs": [
        {
          "output_type": "stream",
          "name": "stdout",
          "text": [
            "2*1= 2 2*2= 4 2*3= 6 2*4= 8 2*5=10 2*6=12 2*7=14 2*8=16 2*9=18 \n",
            "3*1= 3 3*2= 6 3*3= 9 3*4=12 3*5=15 3*6=18 3*7=21 3*8=24 3*9=27 \n",
            "4*1= 4 4*2= 8 4*3=12 4*4=16 4*5=20 4*6=24 4*7=28 4*8=32 4*9=36 \n",
            "5*1= 5 5*2=10 5*3=15 5*4=20 5*5=25 5*6=30 5*7=35 5*8=40 5*9=45 \n",
            "6*1= 6 6*2=12 6*3=18 6*4=24 6*5=30 6*6=36 6*7=42 6*8=48 6*9=54 \n",
            "7*1= 7 7*2=14 7*3=21 7*4=28 7*5=35 7*6=42 7*7=49 7*8=56 7*9=63 \n",
            "8*1= 8 8*2=16 8*3=24 8*4=32 8*5=40 8*6=48 8*7=56 8*8=64 8*9=72 \n",
            "9*1= 9 9*2=18 9*3=27 9*4=36 9*5=45 9*6=54 9*7=63 9*8=72 9*9=81 \n"
          ]
        }
      ]
    },
    {
      "cell_type": "code",
      "source": [
        "a=int(input(\"請輸入a的值:\"))\n",
        "b=int(input(\"請輸入b的值:\"))\n",
        "\n",
        "maxno=a * b\n",
        "for i in range(1,maxno+1):\n",
        "  if (i % a==0 and i % b==0):\n",
        "    break\n",
        "print(\"%d和 %d的最小公倍數=%d\" %(a,b,i))"
      ],
      "metadata": {
        "colab": {
          "base_uri": "https://localhost:8080/"
        },
        "id": "5pdraUfipx41",
        "outputId": "c447f14c-c8f5-4ce8-8fcb-0de95ea25602"
      },
      "execution_count": 3,
      "outputs": [
        {
          "output_type": "stream",
          "name": "stdout",
          "text": [
            "請輸入a的值:6\n",
            "請輸入b的值:3\n",
            "6和 3的最小公倍數=6\n"
          ]
        }
      ]
    },
    {
      "cell_type": "code",
      "source": [
        "n = int(input(\"請輸入一個正整數:\"))\n",
        "for i in range(1, n+1):\n",
        "  if i % 5== 0:\n",
        "    continue\n",
        "  print(i, end=\" \")"
      ],
      "metadata": {
        "colab": {
          "base_uri": "https://localhost:8080/"
        },
        "id": "36aV9IAmpyEV",
        "outputId": "d5f40fcf-cc5c-43af-e81f-6c607ffd0fa8"
      },
      "execution_count": 4,
      "outputs": [
        {
          "output_type": "stream",
          "name": "stdout",
          "text": [
            "請輸入一個正整數:10\n",
            "1 2 3 4 6 7 8 9 "
          ]
        }
      ]
    },
    {
      "cell_type": "code",
      "source": [
        "total= n = 0\n",
        "while(n<10):\n",
        "  n +=1\n",
        "  total += n\n",
        "print(total)"
      ],
      "metadata": {
        "colab": {
          "base_uri": "https://localhost:8080/"
        },
        "id": "zNYIz2MOpyG9",
        "outputId": "ad6104b1-3100-494e-dfa9-d0e78b790088"
      },
      "execution_count": 7,
      "outputs": [
        {
          "output_type": "stream",
          "name": "stdout",
          "text": [
            "55\n"
          ]
        }
      ]
    },
    {
      "cell_type": "code",
      "source": [
        "total= n = 0\n",
        "while(n<=10):\n",
        "  total += n\n",
        "  n +=1\n",
        "print(total)\n"
      ],
      "metadata": {
        "colab": {
          "base_uri": "https://localhost:8080/"
        },
        "id": "xvNUNRCjpyJa",
        "outputId": "c63e3a49-da75-47a5-c587-5d44bf06aff3"
      },
      "execution_count": 8,
      "outputs": [
        {
          "output_type": "stream",
          "name": "stdout",
          "text": [
            "55\n"
          ]
        }
      ]
    },
    {
      "cell_type": "code",
      "source": [
        "total= n = 0\n",
        "while n<=10:\n",
        "  total += n\n",
        "  n +=1\n",
        "print(total)"
      ],
      "metadata": {
        "colab": {
          "base_uri": "https://localhost:8080/"
        },
        "id": "crQsVffVqSnM",
        "outputId": "6123fd64-6feb-458a-d475-73be88d84afe"
      },
      "execution_count": 9,
      "outputs": [
        {
          "output_type": "stream",
          "name": "stdout",
          "text": [
            "55\n"
          ]
        }
      ]
    },
    {
      "cell_type": "code",
      "source": [
        "total = i = 1\n",
        "n= int(input(\"請輸入正整數n的值: \"))\n",
        "while i<=n:\n",
        "  total *=i\n",
        "  i+=1\n",
        "print(\"%d!=%d\" % (n,total))"
      ],
      "metadata": {
        "colab": {
          "base_uri": "https://localhost:8080/"
        },
        "id": "_OaEdU4MqSqD",
        "outputId": "dc90ea90-4b73-46b1-80ac-039d06b521ae"
      },
      "execution_count": 10,
      "outputs": [
        {
          "output_type": "stream",
          "name": "stdout",
          "text": [
            "請輸入正整數n的值: 50\n",
            "50!=30414093201713378043612608166064768844377641568960512000000000000\n"
          ]
        }
      ]
    },
    {
      "cell_type": "code",
      "source": [
        "sum = 0\n",
        "n = 50\n",
        "while n > 0:\n",
        "  sum = sum + n\n",
        "  n = n - 2\n",
        "print(sum)"
      ],
      "metadata": {
        "colab": {
          "base_uri": "https://localhost:8080/"
        },
        "id": "WtAkZ4sQqSsw",
        "outputId": "5ea5161e-2ed3-48f8-f12a-60c78630cfb0"
      },
      "execution_count": 11,
      "outputs": [
        {
          "output_type": "stream",
          "name": "stdout",
          "text": [
            "650\n"
          ]
        }
      ]
    },
    {
      "cell_type": "code",
      "source": [
        "sum = 0\n",
        "for i in range(0,51):\n",
        "    if i%2==1:\n",
        "        sum += i\n",
        "print(sum)"
      ],
      "metadata": {
        "colab": {
          "base_uri": "https://localhost:8080/"
        },
        "id": "vC_O3MfMqa54",
        "outputId": "49dca280-d647-4773-a1fe-fd0eccedd0d7"
      },
      "execution_count": 12,
      "outputs": [
        {
          "output_type": "stream",
          "name": "stdout",
          "text": [
            "625\n"
          ]
        }
      ]
    },
    {
      "cell_type": "code",
      "source": [
        "n = int(input(\"請輸入正整數:\"))\n",
        "for i in range(n):\n",
        "    print(\"\")\n",
        "    for j in range(0,n-i):\n",
        "         print(\"*\",end=\"\")\n",
        "    print()"
      ],
      "metadata": {
        "colab": {
          "base_uri": "https://localhost:8080/"
        },
        "id": "Ts6JtqrFqdXn",
        "outputId": "5637e4cd-bd30-4c5f-e562-fc0ba5679ed0"
      },
      "execution_count": 14,
      "outputs": [
        {
          "output_type": "stream",
          "name": "stdout",
          "text": [
            "請輸入正整數:5\n",
            "\n",
            "*****\n",
            "\n",
            "****\n",
            "\n",
            "***\n",
            "\n",
            "**\n",
            "\n",
            "*\n"
          ]
        }
      ]
    },
    {
      "cell_type": "code",
      "source": [
        "sum=0\n",
        "for i in range(1, 101):\n",
        "  if i % 3 == 0 or i % 7 ==0:\n",
        "    sum += i\n",
        "print(\"數值1～100中，所有是３或７倍數的數之總和=\" +str(sum))"
      ],
      "metadata": {
        "colab": {
          "base_uri": "https://localhost:8080/"
        },
        "id": "woKhkcnhqc4S",
        "outputId": "540b9cbd-2e71-4dee-b4f0-8a62ffa5976b"
      },
      "execution_count": 13,
      "outputs": [
        {
          "output_type": "stream",
          "name": "stdout",
          "text": [
            "數值1～100中，所有是３或７倍數的數之總和=2208\n"
          ]
        }
      ]
    },
    {
      "cell_type": "code",
      "source": [
        "k=int(input(\"請輸入正整數:\"))\n",
        "a = 1\n",
        "while a <= k:\n",
        "  if k % a == 0:\n",
        "   print(a)\n",
        "  a+=1\n",
        "if k > 1:\n",
        "    for i in range(2, int(k/2)+1):\n",
        "         if (k % i) == 0:\n",
        "            print(k,\"不是質數\")\n",
        "            break\n",
        "    else:\n",
        "        print(k,\"是質數\")\n",
        "\n",
        "else:\n",
        "    print(k,\"不是質數\")"
      ],
      "metadata": {
        "colab": {
          "base_uri": "https://localhost:8080/"
        },
        "id": "RSQ1AC63qb2Z",
        "outputId": "0b0c9d9a-0ad8-4ff5-a0df-e30789c4dc45"
      },
      "execution_count": 15,
      "outputs": [
        {
          "output_type": "stream",
          "name": "stdout",
          "text": [
            "請輸入正整數:26\n",
            "1\n",
            "2\n",
            "13\n",
            "26\n",
            "26 不是質數\n"
          ]
        }
      ]
    }
  ]
}