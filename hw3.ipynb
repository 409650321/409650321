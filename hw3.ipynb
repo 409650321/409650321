{
  "nbformat": 4,
  "nbformat_minor": 0,
  "metadata": {
    "colab": {
      "name": "hw3.ipynb",
      "provenance": [],
      "authorship_tag": "ABX9TyNKGcCsSEeSrd/VUQk0GoBt",
      "include_colab_link": true
    },
    "kernelspec": {
      "name": "python3",
      "display_name": "Python 3"
    },
    "language_info": {
      "name": "python"
    }
  },
  "cells": [
    {
      "cell_type": "markdown",
      "metadata": {
        "id": "view-in-github",
        "colab_type": "text"
      },
      "source": [
        "<a href=\"https://colab.research.google.com/github/409650321/409650321/blob/main/hw3.ipynb\" target=\"_parent\"><img src=\"https://colab.research.google.com/assets/colab-badge.svg\" alt=\"Open In Colab\"/></a>"
      ]
    },
    {
      "cell_type": "code",
      "execution_count": null,
      "metadata": {
        "colab": {
          "base_uri": "https://localhost:8080/"
        },
        "id": "g4qMIrGL4dLt",
        "outputId": "6a182e99-f442-4a7d-dde5-57f87054340f"
      },
      "outputs": [
        {
          "output_type": "stream",
          "name": "stdout",
          "text": [
            "123\n"
          ]
        }
      ],
      "source": [
        "print(\"123\")"
      ]
    },
    {
      "cell_type": "code",
      "source": [
        "15+2"
      ],
      "metadata": {
        "colab": {
          "base_uri": "https://localhost:8080/"
        },
        "id": "lQkjmoYH4lBN",
        "outputId": "5632e69c-2710-4acd-bf1c-750c827da586"
      },
      "execution_count": null,
      "outputs": [
        {
          "output_type": "execute_result",
          "data": {
            "text/plain": [
              "17"
            ]
          },
          "metadata": {},
          "execution_count": 2
        }
      ]
    },
    {
      "cell_type": "code",
      "source": [
        "13-2  "
      ],
      "metadata": {
        "colab": {
          "base_uri": "https://localhost:8080/"
        },
        "id": "bZ72l_Q74lHG",
        "outputId": "516f6aa0-0b73-4d40-c049-e907591665aa"
      },
      "execution_count": null,
      "outputs": [
        {
          "output_type": "execute_result",
          "data": {
            "text/plain": [
              "11"
            ]
          },
          "metadata": {},
          "execution_count": 3
        }
      ]
    },
    {
      "cell_type": "code",
      "source": [
        "20*2"
      ],
      "metadata": {
        "colab": {
          "base_uri": "https://localhost:8080/"
        },
        "id": "Yne-HcFK4lMU",
        "outputId": "1cb04ef8-c30c-4754-de6a-abe27732de6f"
      },
      "execution_count": null,
      "outputs": [
        {
          "output_type": "execute_result",
          "data": {
            "text/plain": [
              "40"
            ]
          },
          "metadata": {},
          "execution_count": 4
        }
      ]
    },
    {
      "cell_type": "code",
      "source": [
        "35/5"
      ],
      "metadata": {
        "colab": {
          "base_uri": "https://localhost:8080/"
        },
        "id": "7uos2gCi4tuD",
        "outputId": "3c914140-d028-4c3a-9a35-7e2f34276a1c"
      },
      "execution_count": null,
      "outputs": [
        {
          "output_type": "execute_result",
          "data": {
            "text/plain": [
              "7.0"
            ]
          },
          "metadata": {},
          "execution_count": 5
        }
      ]
    },
    {
      "cell_type": "code",
      "source": [
        "30%5"
      ],
      "metadata": {
        "colab": {
          "base_uri": "https://localhost:8080/"
        },
        "id": "XuSty0zG4t1b",
        "outputId": "b1498548-79bc-4a71-d2c1-69a6a3a2c9ad"
      },
      "execution_count": null,
      "outputs": [
        {
          "output_type": "execute_result",
          "data": {
            "text/plain": [
              "0"
            ]
          },
          "metadata": {},
          "execution_count": 6
        }
      ]
    },
    {
      "cell_type": "code",
      "source": [
        "30//5"
      ],
      "metadata": {
        "colab": {
          "base_uri": "https://localhost:8080/"
        },
        "id": "TLR01DNO40QE",
        "outputId": "a67a78cb-4482-40ac-d8af-927945cbe93b"
      },
      "execution_count": null,
      "outputs": [
        {
          "output_type": "execute_result",
          "data": {
            "text/plain": [
              "6"
            ]
          },
          "metadata": {},
          "execution_count": 7
        }
      ]
    },
    {
      "cell_type": "code",
      "source": [
        "5**2\n"
      ],
      "metadata": {
        "colab": {
          "base_uri": "https://localhost:8080/"
        },
        "id": "CTa-W5Sz42ZM",
        "outputId": "a2fbad62-004b-4a52-f966-3be850a741c7"
      },
      "execution_count": null,
      "outputs": [
        {
          "output_type": "execute_result",
          "data": {
            "text/plain": [
              "25"
            ]
          },
          "metadata": {},
          "execution_count": 8
        }
      ]
    },
    {
      "cell_type": "code",
      "source": [
        "5**3"
      ],
      "metadata": {
        "colab": {
          "base_uri": "https://localhost:8080/"
        },
        "id": "H6rxbOdI42b-",
        "outputId": "3f0ac1bb-1807-44b2-b842-7753570804c9"
      },
      "execution_count": null,
      "outputs": [
        {
          "output_type": "execute_result",
          "data": {
            "text/plain": [
              "125"
            ]
          },
          "metadata": {},
          "execution_count": 9
        }
      ]
    },
    {
      "cell_type": "code",
      "source": [
        "上底=int(input(\"應輸入梯形上底長度:\"))\n",
        "下底=int(input(\"應輸入梯形下底長度:\"))\n",
        "高=int(input(\"應輸入梯形的高度:\"))\n",
        "面積=(上底+下底)*高/2"
      ],
      "metadata": {
        "colab": {
          "base_uri": "https://localhost:8080/"
        },
        "id": "T5p6xOLA42e8",
        "outputId": "057df7fb-e0dc-475c-d6af-678f296ede43"
      },
      "execution_count": null,
      "outputs": [
        {
          "name": "stdout",
          "output_type": "stream",
          "text": [
            "應輸入梯形上底長度:5\n",
            "應輸入梯形下底長度:6\n",
            "應輸入梯形的高度:8\n"
          ]
        }
      ]
    },
    {
      "cell_type": "code",
      "source": [
        "上底=int(input(\"應輸入梯形上底長度:\"))\n",
        "下底=int(input(\"應輸入梯形下底長度:\"))\n",
        "高=int(input(\"應輸入梯形的高度:\"))\n",
        "面積=(上底+下底)*高/2\n",
        "print(\"梯形上底長度為:\",上底,\"梯形下底長度為:\",下底,\"梯形高度為:\",高,\"梯形面積為:\",面積,)\n",
        "應輸入梯形上底長度:5"
      ],
      "metadata": {
        "colab": {
          "base_uri": "https://localhost:8080/"
        },
        "id": "qtt-Lgrc5Pgs",
        "outputId": "c05e9208-ad58-4324-d698-a97d4e823115"
      },
      "execution_count": null,
      "outputs": [
        {
          "output_type": "stream",
          "name": "stdout",
          "text": [
            "應輸入梯形上底長度:5\n",
            "應輸入梯形下底長度:6\n",
            "應輸入梯形的高度:8\n",
            "梯形上底長度為: 5 梯形下底長度為: 6 梯形高度為: 8 梯形面積為: 44.0\n"
          ]
        }
      ]
    },
    {
      "cell_type": "code",
      "source": [
        "(\"梯形下底長度為:%d,梯形上上底長度為:%d,梯形高度為:%d,高梯形面積為:%d\"%(上底,下底,高,面積))\n"
      ],
      "metadata": {
        "colab": {
          "base_uri": "https://localhost:8080/",
          "height": 35
        },
        "id": "4PS91wes5URT",
        "outputId": "4bbba9fe-e333-4127-a22f-15629dfb9d7c"
      },
      "execution_count": null,
      "outputs": [
        {
          "output_type": "execute_result",
          "data": {
            "text/plain": [
              "'梯形下底長度為:5,梯形上上底長度為:6,梯形高度為:8,高梯形面積為:44'"
            ],
            "application/vnd.google.colaboratory.intrinsic+json": {
              "type": "string"
            }
          },
          "metadata": {},
          "execution_count": 12
        }
      ]
    },
    {
      "cell_type": "code",
      "source": [
        "(\"梯形下底長度為:%d,梯形上上底長度為:%d,梯形高度為:%d,高梯形面積為:%f\"%(上底,下底,高,面積))"
      ],
      "metadata": {
        "colab": {
          "base_uri": "https://localhost:8080/",
          "height": 35
        },
        "id": "GXR-mUrR5XRT",
        "outputId": "7854909f-6af1-4aea-97b8-2750e3497473"
      },
      "execution_count": null,
      "outputs": [
        {
          "output_type": "execute_result",
          "data": {
            "text/plain": [
              "'梯形下底長度為:5,梯形上上底長度為:6,梯形高度為:8,高梯形面積為:44.000000'"
            ],
            "application/vnd.google.colaboratory.intrinsic+json": {
              "type": "string"
            }
          },
          "metadata": {},
          "execution_count": 13
        }
      ]
    },
    {
      "cell_type": "code",
      "source": [
        "(\"梯形下底長度為:%d,梯形上上底長度為:%d,梯形高度為:%d,高梯形面積為:%0.1f\"%(上底,下底,高,面積))"
      ],
      "metadata": {
        "colab": {
          "base_uri": "https://localhost:8080/",
          "height": 35
        },
        "id": "UqBUTL5q5aG7",
        "outputId": "65f980a3-70da-4475-da53-d9254fea60c9"
      },
      "execution_count": null,
      "outputs": [
        {
          "output_type": "execute_result",
          "data": {
            "text/plain": [
              "'梯形下底長度為:5,梯形上上底長度為:6,梯形高度為:8,高梯形面積為:44.0'"
            ],
            "application/vnd.google.colaboratory.intrinsic+json": {
              "type": "string"
            }
          },
          "metadata": {},
          "execution_count": 14
        }
      ]
    },
    {
      "cell_type": "code",
      "source": [
        "a=1.1\n",
        "b=2.02\n",
        "c=3.003"
      ],
      "metadata": {
        "id": "LS8wNHS95czr"
      },
      "execution_count": null,
      "outputs": []
    },
    {
      "cell_type": "code",
      "source": [
        "print(\"a=%0.1f,b=%0.2f.c=%0.3f\"%(a,b,c,))"
      ],
      "metadata": {
        "colab": {
          "base_uri": "https://localhost:8080/"
        },
        "id": "BMsJCgUT5fik",
        "outputId": "514f73da-1362-426b-b599-e173b772556b"
      },
      "execution_count": null,
      "outputs": [
        {
          "output_type": "stream",
          "name": "stdout",
          "text": [
            "a=1.1,b=2.02.c=3.003\n"
          ]
        }
      ]
    },
    {
      "cell_type": "code",
      "source": [
        "height=float(input(\"請輸入您的身高(cm):\"))\n",
        "weight=float(input(\"請輸入您的體重(kg):\"))\n",
        "bmi=weight/(height/100)**2\n",
        "print(\"身高%d公分,體重%d體重,bmi值為%.2f\"%(height,weight,bmi))"
      ],
      "metadata": {
        "colab": {
          "base_uri": "https://localhost:8080/"
        },
        "id": "W588zRD55k5L",
        "outputId": "686f71d4-5795-401d-f08c-bb365129b4f8"
      },
      "execution_count": null,
      "outputs": [
        {
          "output_type": "stream",
          "name": "stdout",
          "text": [
            "請輸入您的身高(cm):174\n",
            "請輸入您的體重(kg):80\n",
            "身高174公分,體重80體重,bmi值為26.42\n"
          ]
        }
      ]
    },
    {
      "cell_type": "code",
      "source": [
        "height"
      ],
      "metadata": {
        "colab": {
          "base_uri": "https://localhost:8080/"
        },
        "id": "ZWcqkSNq5pek",
        "outputId": "0ffa44c2-6aec-4104-d55d-5be885eb79c1"
      },
      "execution_count": null,
      "outputs": [
        {
          "output_type": "execute_result",
          "data": {
            "text/plain": [
              "174.0"
            ]
          },
          "metadata": {},
          "execution_count": 18
        }
      ]
    },
    {
      "cell_type": "code",
      "source": [
        "1==2"
      ],
      "metadata": {
        "colab": {
          "base_uri": "https://localhost:8080/"
        },
        "id": "ehK0yTi-5rlb",
        "outputId": "896f2f1b-191e-48b3-9324-d6a0ddf382a9"
      },
      "execution_count": null,
      "outputs": [
        {
          "output_type": "execute_result",
          "data": {
            "text/plain": [
              "False"
            ]
          },
          "metadata": {},
          "execution_count": 19
        }
      ]
    }
  ]
}